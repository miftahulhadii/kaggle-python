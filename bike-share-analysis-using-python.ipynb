{
 "cells": [
  {
   "cell_type": "markdown",
   "id": "13449282",
   "metadata": {
    "papermill": {
     "duration": 0.011316,
     "end_time": "2023-03-18T19:18:14.019536",
     "exception": false,
     "start_time": "2023-03-18T19:18:14.008220",
     "status": "completed"
    },
    "tags": []
   },
   "source": [
    "## Preparation"
   ]
  },
  {
   "cell_type": "code",
   "execution_count": 1,
   "id": "2c713ca3",
   "metadata": {
    "execution": {
     "iopub.execute_input": "2023-03-18T19:18:14.042711Z",
     "iopub.status.busy": "2023-03-18T19:18:14.042238Z",
     "iopub.status.idle": "2023-03-18T19:18:18.119303Z",
     "shell.execute_reply": "2023-03-18T19:18:18.118052Z"
    },
    "papermill": {
     "duration": 4.091786,
     "end_time": "2023-03-18T19:18:18.121815",
     "exception": false,
     "start_time": "2023-03-18T19:18:14.030029",
     "status": "completed"
    },
    "tags": []
   },
   "outputs": [
    {
     "name": "stderr",
     "output_type": "stream",
     "text": [
      "/opt/conda/lib/python3.7/site-packages/geopandas/_compat.py:115: UserWarning: The Shapely GEOS version (3.9.1-CAPI-1.14.2) is incompatible with the GEOS version PyGEOS was compiled with (3.10.4-CAPI-1.16.2). Conversions between both will be slow.\n"
     ]
    }
   ],
   "source": [
    "#Import library\n",
    "import pandas as pd\n",
    "import matplotlib.pyplot as plt\n",
    "import numpy as np\n",
    "import seaborn as sns\n",
    "from pandas.api.types import CategoricalDtype\n",
    "from plotnine import ggplot, aes, geom_col, labs"
   ]
  },
  {
   "cell_type": "markdown",
   "id": "601a89b1",
   "metadata": {
    "papermill": {
     "duration": 0.008434,
     "end_time": "2023-03-18T19:18:18.139177",
     "exception": false,
     "start_time": "2023-03-18T19:18:18.130743",
     "status": "completed"
    },
    "tags": []
   },
   "source": [
    "## STEP 1 - Collect data"
   ]
  },
  {
   "cell_type": "code",
   "execution_count": 2,
   "id": "c4613a2a",
   "metadata": {
    "execution": {
     "iopub.execute_input": "2023-03-18T19:18:18.159517Z",
     "iopub.status.busy": "2023-03-18T19:18:18.158869Z",
     "iopub.status.idle": "2023-03-18T19:18:46.082713Z",
     "shell.execute_reply": "2023-03-18T19:18:46.081015Z"
    },
    "papermill": {
     "duration": 27.937296,
     "end_time": "2023-03-18T19:18:46.085217",
     "exception": false,
     "start_time": "2023-03-18T19:18:18.147921",
     "status": "completed"
    },
    "tags": []
   },
   "outputs": [],
   "source": [
    "#collect a dataset\n",
    "m1_2022 = pd.read_csv(r'/kaggle/input/bikeshareanalysis2022/202201-divvy-tripdata.csv')\n",
    "m2_2022 = pd.read_csv(r'/kaggle/input/bikeshareanalysis2022/202202-divvy-tripdata.csv')\n",
    "m3_2022 = pd.read_csv(r'/kaggle/input/bikeshareanalysis2022/202203-divvy-tripdata.csv')\n",
    "m4_2022 = pd.read_csv(r'/kaggle/input/bikeshareanalysis2022/202204-divvy-tripdata.csv')\n",
    "m5_2022 = pd.read_csv(r'/kaggle/input/bikeshareanalysis2022/202205-divvy-tripdata.csv', sep = \";\")\n",
    "m6_2022 = pd.read_csv(r'/kaggle/input/bikeshareanalysis2022/202206-divvy-tripdata.csv')\n",
    "m7_2022 = pd.read_csv(r'/kaggle/input/bikeshareanalysis2022/202207-divvy-tripdata.csv')\n",
    "m8_2022 = pd.read_csv(r'/kaggle/input/bikeshareanalysis2022/202208-divvy-tripdata.csv')\n",
    "m9_2022 = pd.read_csv(r'/kaggle/input/bikeshareanalysis2022/202209-divvy-tripdata.csv')\n",
    "m10_2022 = pd.read_csv(r'/kaggle/input/bikeshareanalysis2022/202210-divvy-tripdata.csv')\n",
    "m11_2022 = pd.read_csv(r'/kaggle/input/bikeshareanalysis2022/202211-divvy-tripdata.csv', sep = \";\")\n",
    "m12_2022 = pd.read_csv(r'/kaggle/input/bikeshareanalysis2022/202212-divvy-tripdata.csv')"
   ]
  },
  {
   "cell_type": "markdown",
   "id": "dda6edc3",
   "metadata": {
    "papermill": {
     "duration": 0.008332,
     "end_time": "2023-03-18T19:18:46.102741",
     "exception": false,
     "start_time": "2023-03-18T19:18:46.094409",
     "status": "completed"
    },
    "tags": []
   },
   "source": [
    "## STEP 2 - Combine Data into a Single Data Frame"
   ]
  },
  {
   "cell_type": "code",
   "execution_count": 3,
   "id": "8fba1b65",
   "metadata": {
    "execution": {
     "iopub.execute_input": "2023-03-18T19:18:46.121262Z",
     "iopub.status.busy": "2023-03-18T19:18:46.120905Z",
     "iopub.status.idle": "2023-03-18T19:18:46.131805Z",
     "shell.execute_reply": "2023-03-18T19:18:46.130312Z"
    },
    "papermill": {
     "duration": 0.023281,
     "end_time": "2023-03-18T19:18:46.134383",
     "exception": false,
     "start_time": "2023-03-18T19:18:46.111102",
     "status": "completed"
    },
    "tags": []
   },
   "outputs": [
    {
     "data": {
      "text/plain": [
       "['ride_id',\n",
       " 'rideable_type',\n",
       " 'started_at',\n",
       " 'ended_at',\n",
       " 'start_station_name',\n",
       " 'start_station_id',\n",
       " 'end_station_name',\n",
       " 'end_station_id',\n",
       " 'start_lat',\n",
       " 'start_lng',\n",
       " 'end_lat',\n",
       " 'end_lng',\n",
       " 'member_casual']"
      ]
     },
     "execution_count": 3,
     "metadata": {},
     "output_type": "execute_result"
    }
   ],
   "source": [
    "#check columns names\n",
    "list(m1_2022.columns)\n",
    "list(m2_2022.columns)\n",
    "list(m3_2022.columns)\n",
    "list(m4_2022.columns)\n",
    "list(m5_2022.columns)\n",
    "list(m6_2022.columns)\n",
    "list(m7_2022.columns)\n",
    "list(m8_2022.columns)\n",
    "list(m9_2022.columns)\n",
    "list(m10_2022.columns)\n",
    "list(m11_2022.columns)\n",
    "list(m12_2022.columns)"
   ]
  },
  {
   "cell_type": "code",
   "execution_count": 4,
   "id": "311f5fc8",
   "metadata": {
    "execution": {
     "iopub.execute_input": "2023-03-18T19:18:46.154393Z",
     "iopub.status.busy": "2023-03-18T19:18:46.154012Z",
     "iopub.status.idle": "2023-03-18T19:18:46.170404Z",
     "shell.execute_reply": "2023-03-18T19:18:46.168965Z"
    },
    "papermill": {
     "duration": 0.029538,
     "end_time": "2023-03-18T19:18:46.172953",
     "exception": false,
     "start_time": "2023-03-18T19:18:46.143415",
     "status": "completed"
    },
    "tags": []
   },
   "outputs": [
    {
     "data": {
      "text/plain": [
       "ride_id                object\n",
       "rideable_type          object\n",
       "started_at             object\n",
       "ended_at               object\n",
       "start_station_name     object\n",
       "start_station_id       object\n",
       "end_station_name       object\n",
       "end_station_id         object\n",
       "start_lat             float64\n",
       "start_lng             float64\n",
       "end_lat               float64\n",
       "end_lng               float64\n",
       "member_casual          object\n",
       "dtype: object"
      ]
     },
     "execution_count": 4,
     "metadata": {},
     "output_type": "execute_result"
    }
   ],
   "source": [
    "#check data types\n",
    "m1_2022.dtypes\n",
    "m2_2022.dtypes\n",
    "m3_2022.dtypes\n",
    "m4_2022.dtypes\n",
    "m5_2022.dtypes\n",
    "m6_2022.dtypes\n",
    "m7_2022.dtypes\n",
    "m8_2022.dtypes\n",
    "m9_2022.dtypes\n",
    "m10_2022.dtypes\n",
    "m11_2022.dtypes\n",
    "m12_2022.dtypes"
   ]
  },
  {
   "cell_type": "code",
   "execution_count": 5,
   "id": "8a71c558",
   "metadata": {
    "execution": {
     "iopub.execute_input": "2023-03-18T19:18:46.193034Z",
     "iopub.status.busy": "2023-03-18T19:18:46.192650Z",
     "iopub.status.idle": "2023-03-18T19:18:47.396056Z",
     "shell.execute_reply": "2023-03-18T19:18:47.394732Z"
    },
    "papermill": {
     "duration": 1.216409,
     "end_time": "2023-03-18T19:18:47.398750",
     "exception": false,
     "start_time": "2023-03-18T19:18:46.182341",
     "status": "completed"
    },
    "tags": []
   },
   "outputs": [],
   "source": [
    "#combine/bind all sheet/rows\n",
    "all_trips = pd.concat([m1_2022,m2_2022,m3_2022,m4_2022,m5_2022,m6_2022,m7_2022,m8_2022,m9_2022,m10_2022,m11_2022,m12_2022])"
   ]
  },
  {
   "cell_type": "markdown",
   "id": "742d4eea",
   "metadata": {
    "papermill": {
     "duration": 0.009143,
     "end_time": "2023-03-18T19:18:47.417691",
     "exception": false,
     "start_time": "2023-03-18T19:18:47.408548",
     "status": "completed"
    },
    "tags": []
   },
   "source": [
    "## STEP 3 - Clean Up and Add Data"
   ]
  },
  {
   "cell_type": "code",
   "execution_count": 6,
   "id": "f06ab157",
   "metadata": {
    "execution": {
     "iopub.execute_input": "2023-03-18T19:18:47.438392Z",
     "iopub.status.busy": "2023-03-18T19:18:47.437951Z",
     "iopub.status.idle": "2023-03-18T19:18:47.469456Z",
     "shell.execute_reply": "2023-03-18T19:18:47.468053Z"
    },
    "papermill": {
     "duration": 0.045048,
     "end_time": "2023-03-18T19:18:47.472159",
     "exception": false,
     "start_time": "2023-03-18T19:18:47.427111",
     "status": "completed"
    },
    "tags": []
   },
   "outputs": [
    {
     "data": {
      "text/html": [
       "<div>\n",
       "<style scoped>\n",
       "    .dataframe tbody tr th:only-of-type {\n",
       "        vertical-align: middle;\n",
       "    }\n",
       "\n",
       "    .dataframe tbody tr th {\n",
       "        vertical-align: top;\n",
       "    }\n",
       "\n",
       "    .dataframe thead th {\n",
       "        text-align: right;\n",
       "    }\n",
       "</style>\n",
       "<table border=\"1\" class=\"dataframe\">\n",
       "  <thead>\n",
       "    <tr style=\"text-align: right;\">\n",
       "      <th></th>\n",
       "      <th>ride_id</th>\n",
       "      <th>rideable_type</th>\n",
       "      <th>started_at</th>\n",
       "      <th>ended_at</th>\n",
       "      <th>start_station_name</th>\n",
       "      <th>start_station_id</th>\n",
       "      <th>end_station_name</th>\n",
       "      <th>end_station_id</th>\n",
       "      <th>start_lat</th>\n",
       "      <th>start_lng</th>\n",
       "      <th>end_lat</th>\n",
       "      <th>end_lng</th>\n",
       "      <th>member_casual</th>\n",
       "    </tr>\n",
       "  </thead>\n",
       "  <tbody>\n",
       "    <tr>\n",
       "      <th>0</th>\n",
       "      <td>C2F7DD78E82EC875</td>\n",
       "      <td>electric_bike</td>\n",
       "      <td>2022-01-13 11:59:47</td>\n",
       "      <td>2022-01-13 12:02:44</td>\n",
       "      <td>Glenwood Ave &amp; Touhy Ave</td>\n",
       "      <td>525</td>\n",
       "      <td>Clark St &amp; Touhy Ave</td>\n",
       "      <td>RP-007</td>\n",
       "      <td>42.012800</td>\n",
       "      <td>-87.665906</td>\n",
       "      <td>42.012560</td>\n",
       "      <td>-87.674367</td>\n",
       "      <td>casual</td>\n",
       "    </tr>\n",
       "    <tr>\n",
       "      <th>1</th>\n",
       "      <td>A6CF8980A652D272</td>\n",
       "      <td>electric_bike</td>\n",
       "      <td>2022-01-10 08:41:56</td>\n",
       "      <td>2022-01-10 08:46:17</td>\n",
       "      <td>Glenwood Ave &amp; Touhy Ave</td>\n",
       "      <td>525</td>\n",
       "      <td>Clark St &amp; Touhy Ave</td>\n",
       "      <td>RP-007</td>\n",
       "      <td>42.012763</td>\n",
       "      <td>-87.665967</td>\n",
       "      <td>42.012560</td>\n",
       "      <td>-87.674367</td>\n",
       "      <td>casual</td>\n",
       "    </tr>\n",
       "    <tr>\n",
       "      <th>2</th>\n",
       "      <td>BD0F91DFF741C66D</td>\n",
       "      <td>classic_bike</td>\n",
       "      <td>2022-01-25 04:53:40</td>\n",
       "      <td>2022-01-25 04:58:01</td>\n",
       "      <td>Sheffield Ave &amp; Fullerton Ave</td>\n",
       "      <td>TA1306000016</td>\n",
       "      <td>Greenview Ave &amp; Fullerton Ave</td>\n",
       "      <td>TA1307000001</td>\n",
       "      <td>41.925602</td>\n",
       "      <td>-87.653708</td>\n",
       "      <td>41.925330</td>\n",
       "      <td>-87.665800</td>\n",
       "      <td>member</td>\n",
       "    </tr>\n",
       "    <tr>\n",
       "      <th>3</th>\n",
       "      <td>CBB80ED419105406</td>\n",
       "      <td>classic_bike</td>\n",
       "      <td>2022-01-04 00:18:04</td>\n",
       "      <td>2022-01-04 00:33:00</td>\n",
       "      <td>Clark St &amp; Bryn Mawr Ave</td>\n",
       "      <td>KA1504000151</td>\n",
       "      <td>Paulina St &amp; Montrose Ave</td>\n",
       "      <td>TA1309000021</td>\n",
       "      <td>41.983593</td>\n",
       "      <td>-87.669154</td>\n",
       "      <td>41.961507</td>\n",
       "      <td>-87.671387</td>\n",
       "      <td>casual</td>\n",
       "    </tr>\n",
       "    <tr>\n",
       "      <th>4</th>\n",
       "      <td>DDC963BFDDA51EEA</td>\n",
       "      <td>classic_bike</td>\n",
       "      <td>2022-01-20 01:31:10</td>\n",
       "      <td>2022-01-20 01:37:12</td>\n",
       "      <td>Michigan Ave &amp; Jackson Blvd</td>\n",
       "      <td>TA1309000002</td>\n",
       "      <td>State St &amp; Randolph St</td>\n",
       "      <td>TA1305000029</td>\n",
       "      <td>41.877850</td>\n",
       "      <td>-87.624080</td>\n",
       "      <td>41.884621</td>\n",
       "      <td>-87.627834</td>\n",
       "      <td>member</td>\n",
       "    </tr>\n",
       "  </tbody>\n",
       "</table>\n",
       "</div>"
      ],
      "text/plain": [
       "            ride_id  rideable_type           started_at             ended_at  \\\n",
       "0  C2F7DD78E82EC875  electric_bike  2022-01-13 11:59:47  2022-01-13 12:02:44   \n",
       "1  A6CF8980A652D272  electric_bike  2022-01-10 08:41:56  2022-01-10 08:46:17   \n",
       "2  BD0F91DFF741C66D   classic_bike  2022-01-25 04:53:40  2022-01-25 04:58:01   \n",
       "3  CBB80ED419105406   classic_bike  2022-01-04 00:18:04  2022-01-04 00:33:00   \n",
       "4  DDC963BFDDA51EEA   classic_bike  2022-01-20 01:31:10  2022-01-20 01:37:12   \n",
       "\n",
       "              start_station_name start_station_id  \\\n",
       "0       Glenwood Ave & Touhy Ave              525   \n",
       "1       Glenwood Ave & Touhy Ave              525   \n",
       "2  Sheffield Ave & Fullerton Ave     TA1306000016   \n",
       "3       Clark St & Bryn Mawr Ave     KA1504000151   \n",
       "4    Michigan Ave & Jackson Blvd     TA1309000002   \n",
       "\n",
       "                end_station_name end_station_id  start_lat  start_lng  \\\n",
       "0           Clark St & Touhy Ave         RP-007  42.012800 -87.665906   \n",
       "1           Clark St & Touhy Ave         RP-007  42.012763 -87.665967   \n",
       "2  Greenview Ave & Fullerton Ave   TA1307000001  41.925602 -87.653708   \n",
       "3      Paulina St & Montrose Ave   TA1309000021  41.983593 -87.669154   \n",
       "4         State St & Randolph St   TA1305000029  41.877850 -87.624080   \n",
       "\n",
       "     end_lat    end_lng member_casual  \n",
       "0  42.012560 -87.674367        casual  \n",
       "1  42.012560 -87.674367        casual  \n",
       "2  41.925330 -87.665800        member  \n",
       "3  41.961507 -87.671387        casual  \n",
       "4  41.884621 -87.627834        member  "
      ]
     },
     "execution_count": 6,
     "metadata": {},
     "output_type": "execute_result"
    }
   ],
   "source": [
    "#check top 4 rows in every column\n",
    "all_trips.head()"
   ]
  },
  {
   "cell_type": "code",
   "execution_count": 7,
   "id": "518f19eb",
   "metadata": {
    "execution": {
     "iopub.execute_input": "2023-03-18T19:18:47.492794Z",
     "iopub.status.busy": "2023-03-18T19:18:47.492400Z",
     "iopub.status.idle": "2023-03-18T19:18:47.509649Z",
     "shell.execute_reply": "2023-03-18T19:18:47.508726Z"
    },
    "papermill": {
     "duration": 0.030477,
     "end_time": "2023-03-18T19:18:47.511997",
     "exception": false,
     "start_time": "2023-03-18T19:18:47.481520",
     "status": "completed"
    },
    "tags": []
   },
   "outputs": [
    {
     "data": {
      "text/html": [
       "<div>\n",
       "<style scoped>\n",
       "    .dataframe tbody tr th:only-of-type {\n",
       "        vertical-align: middle;\n",
       "    }\n",
       "\n",
       "    .dataframe tbody tr th {\n",
       "        vertical-align: top;\n",
       "    }\n",
       "\n",
       "    .dataframe thead th {\n",
       "        text-align: right;\n",
       "    }\n",
       "</style>\n",
       "<table border=\"1\" class=\"dataframe\">\n",
       "  <thead>\n",
       "    <tr style=\"text-align: right;\">\n",
       "      <th></th>\n",
       "      <th>ride_id</th>\n",
       "      <th>rideable_type</th>\n",
       "      <th>started_at</th>\n",
       "      <th>ended_at</th>\n",
       "      <th>start_station_name</th>\n",
       "      <th>start_station_id</th>\n",
       "      <th>end_station_name</th>\n",
       "      <th>end_station_id</th>\n",
       "      <th>start_lat</th>\n",
       "      <th>start_lng</th>\n",
       "      <th>end_lat</th>\n",
       "      <th>end_lng</th>\n",
       "      <th>member_casual</th>\n",
       "    </tr>\n",
       "  </thead>\n",
       "  <tbody>\n",
       "    <tr>\n",
       "      <th>181801</th>\n",
       "      <td>43ABEE85B6E15DCA</td>\n",
       "      <td>classic_bike</td>\n",
       "      <td>2022-12-05 06:51:04</td>\n",
       "      <td>2022-12-05 06:54:48</td>\n",
       "      <td>Sangamon St &amp; Washington Blvd</td>\n",
       "      <td>13409</td>\n",
       "      <td>Peoria St &amp; Jackson Blvd</td>\n",
       "      <td>13158</td>\n",
       "      <td>41.883165</td>\n",
       "      <td>-87.651100</td>\n",
       "      <td>41.877642</td>\n",
       "      <td>-87.649618</td>\n",
       "      <td>member</td>\n",
       "    </tr>\n",
       "    <tr>\n",
       "      <th>181802</th>\n",
       "      <td>F041C89A3D1F0270</td>\n",
       "      <td>electric_bike</td>\n",
       "      <td>2022-12-14 17:06:28</td>\n",
       "      <td>2022-12-14 17:19:27</td>\n",
       "      <td>Bernard St &amp; Elston Ave</td>\n",
       "      <td>18016</td>\n",
       "      <td>Seeley Ave &amp; Roscoe St</td>\n",
       "      <td>13144</td>\n",
       "      <td>41.949980</td>\n",
       "      <td>-87.714019</td>\n",
       "      <td>41.943403</td>\n",
       "      <td>-87.679618</td>\n",
       "      <td>member</td>\n",
       "    </tr>\n",
       "    <tr>\n",
       "      <th>181803</th>\n",
       "      <td>A2BECB88430BE156</td>\n",
       "      <td>classic_bike</td>\n",
       "      <td>2022-12-08 16:27:47</td>\n",
       "      <td>2022-12-08 16:32:20</td>\n",
       "      <td>Wacker Dr &amp; Washington St</td>\n",
       "      <td>KA1503000072</td>\n",
       "      <td>Green St &amp; Madison St</td>\n",
       "      <td>TA1307000120</td>\n",
       "      <td>41.883143</td>\n",
       "      <td>-87.637242</td>\n",
       "      <td>41.881859</td>\n",
       "      <td>-87.649264</td>\n",
       "      <td>member</td>\n",
       "    </tr>\n",
       "    <tr>\n",
       "      <th>181804</th>\n",
       "      <td>37B392960E566F58</td>\n",
       "      <td>classic_bike</td>\n",
       "      <td>2022-12-28 09:37:38</td>\n",
       "      <td>2022-12-28 09:41:34</td>\n",
       "      <td>Sangamon St &amp; Washington Blvd</td>\n",
       "      <td>13409</td>\n",
       "      <td>Peoria St &amp; Jackson Blvd</td>\n",
       "      <td>13158</td>\n",
       "      <td>41.883165</td>\n",
       "      <td>-87.651100</td>\n",
       "      <td>41.877642</td>\n",
       "      <td>-87.649618</td>\n",
       "      <td>member</td>\n",
       "    </tr>\n",
       "    <tr>\n",
       "      <th>181805</th>\n",
       "      <td>2DD1587210BA45AE</td>\n",
       "      <td>classic_bike</td>\n",
       "      <td>2022-12-09 00:27:25</td>\n",
       "      <td>2022-12-09 00:35:28</td>\n",
       "      <td>Southport Ave &amp; Waveland Ave</td>\n",
       "      <td>13235</td>\n",
       "      <td>Seeley Ave &amp; Roscoe St</td>\n",
       "      <td>13144</td>\n",
       "      <td>41.948150</td>\n",
       "      <td>-87.663940</td>\n",
       "      <td>41.943403</td>\n",
       "      <td>-87.679618</td>\n",
       "      <td>casual</td>\n",
       "    </tr>\n",
       "  </tbody>\n",
       "</table>\n",
       "</div>"
      ],
      "text/plain": [
       "                 ride_id  rideable_type           started_at  \\\n",
       "181801  43ABEE85B6E15DCA   classic_bike  2022-12-05 06:51:04   \n",
       "181802  F041C89A3D1F0270  electric_bike  2022-12-14 17:06:28   \n",
       "181803  A2BECB88430BE156   classic_bike  2022-12-08 16:27:47   \n",
       "181804  37B392960E566F58   classic_bike  2022-12-28 09:37:38   \n",
       "181805  2DD1587210BA45AE   classic_bike  2022-12-09 00:27:25   \n",
       "\n",
       "                   ended_at             start_station_name start_station_id  \\\n",
       "181801  2022-12-05 06:54:48  Sangamon St & Washington Blvd            13409   \n",
       "181802  2022-12-14 17:19:27        Bernard St & Elston Ave            18016   \n",
       "181803  2022-12-08 16:32:20      Wacker Dr & Washington St     KA1503000072   \n",
       "181804  2022-12-28 09:41:34  Sangamon St & Washington Blvd            13409   \n",
       "181805  2022-12-09 00:35:28   Southport Ave & Waveland Ave            13235   \n",
       "\n",
       "                end_station_name end_station_id  start_lat  start_lng  \\\n",
       "181801  Peoria St & Jackson Blvd          13158  41.883165 -87.651100   \n",
       "181802    Seeley Ave & Roscoe St          13144  41.949980 -87.714019   \n",
       "181803     Green St & Madison St   TA1307000120  41.883143 -87.637242   \n",
       "181804  Peoria St & Jackson Blvd          13158  41.883165 -87.651100   \n",
       "181805    Seeley Ave & Roscoe St          13144  41.948150 -87.663940   \n",
       "\n",
       "          end_lat    end_lng member_casual  \n",
       "181801  41.877642 -87.649618        member  \n",
       "181802  41.943403 -87.679618        member  \n",
       "181803  41.881859 -87.649264        member  \n",
       "181804  41.877642 -87.649618        member  \n",
       "181805  41.943403 -87.679618        casual  "
      ]
     },
     "execution_count": 7,
     "metadata": {},
     "output_type": "execute_result"
    }
   ],
   "source": [
    "#check bottom 4 rows in every column\n",
    "all_trips.tail()"
   ]
  },
  {
   "cell_type": "code",
   "execution_count": 8,
   "id": "62a75eea",
   "metadata": {
    "execution": {
     "iopub.execute_input": "2023-03-18T19:18:47.532717Z",
     "iopub.status.busy": "2023-03-18T19:18:47.532206Z",
     "iopub.status.idle": "2023-03-18T19:18:48.944026Z",
     "shell.execute_reply": "2023-03-18T19:18:48.943004Z"
    },
    "papermill": {
     "duration": 1.425205,
     "end_time": "2023-03-18T19:18:48.946728",
     "exception": false,
     "start_time": "2023-03-18T19:18:47.521523",
     "status": "completed"
    },
    "tags": []
   },
   "outputs": [],
   "source": [
    "#Remove some unused column\n",
    "columns = ['start_lat', 'start_lng', 'end_lat', 'end_lng']\n",
    "all_trips_v2 = all_trips.drop(columns, axis = 1) #axis = 1 for columns, 0 for rows"
   ]
  },
  {
   "cell_type": "code",
   "execution_count": 9,
   "id": "d4209144",
   "metadata": {
    "execution": {
     "iopub.execute_input": "2023-03-18T19:18:48.968021Z",
     "iopub.status.busy": "2023-03-18T19:18:48.967629Z",
     "iopub.status.idle": "2023-03-18T19:18:48.975388Z",
     "shell.execute_reply": "2023-03-18T19:18:48.974598Z"
    },
    "papermill": {
     "duration": 0.020949,
     "end_time": "2023-03-18T19:18:48.977364",
     "exception": false,
     "start_time": "2023-03-18T19:18:48.956415",
     "status": "completed"
    },
    "tags": []
   },
   "outputs": [
    {
     "data": {
      "text/plain": [
       "(5658394, 9)"
      ]
     },
     "execution_count": 9,
     "metadata": {},
     "output_type": "execute_result"
    }
   ],
   "source": [
    "#total rows and column in a data frame\n",
    "all_trips_v2.shape"
   ]
  },
  {
   "cell_type": "code",
   "execution_count": 10,
   "id": "aff32b25",
   "metadata": {
    "execution": {
     "iopub.execute_input": "2023-03-18T19:18:48.998604Z",
     "iopub.status.busy": "2023-03-18T19:18:48.997402Z",
     "iopub.status.idle": "2023-03-18T19:18:49.005997Z",
     "shell.execute_reply": "2023-03-18T19:18:49.004452Z"
    },
    "papermill": {
     "duration": 0.02178,
     "end_time": "2023-03-18T19:18:49.008792",
     "exception": false,
     "start_time": "2023-03-18T19:18:48.987012",
     "status": "completed"
    },
    "tags": []
   },
   "outputs": [
    {
     "data": {
      "text/plain": [
       "50925546"
      ]
     },
     "execution_count": 10,
     "metadata": {},
     "output_type": "execute_result"
    }
   ],
   "source": [
    "#total value point = columns*rows\n",
    "all_trips_v2.size"
   ]
  },
  {
   "cell_type": "code",
   "execution_count": 11,
   "id": "1dc501e0",
   "metadata": {
    "execution": {
     "iopub.execute_input": "2023-03-18T19:18:49.033529Z",
     "iopub.status.busy": "2023-03-18T19:18:49.032294Z",
     "iopub.status.idle": "2023-03-18T19:18:49.039721Z",
     "shell.execute_reply": "2023-03-18T19:18:49.038636Z"
    },
    "papermill": {
     "duration": 0.021561,
     "end_time": "2023-03-18T19:18:49.041729",
     "exception": false,
     "start_time": "2023-03-18T19:18:49.020168",
     "status": "completed"
    },
    "tags": []
   },
   "outputs": [
    {
     "data": {
      "text/plain": [
       "Index(['ride_id', 'rideable_type', 'started_at', 'ended_at',\n",
       "       'start_station_name', 'start_station_id', 'end_station_name',\n",
       "       'end_station_id', 'member_casual'],\n",
       "      dtype='object')"
      ]
     },
     "execution_count": 11,
     "metadata": {},
     "output_type": "execute_result"
    }
   ],
   "source": [
    "#check columns name\n",
    "all_trips_v2.columns"
   ]
  },
  {
   "cell_type": "code",
   "execution_count": 12,
   "id": "057e9130",
   "metadata": {
    "execution": {
     "iopub.execute_input": "2023-03-18T19:18:49.067262Z",
     "iopub.status.busy": "2023-03-18T19:18:49.066821Z",
     "iopub.status.idle": "2023-03-18T19:18:49.088733Z",
     "shell.execute_reply": "2023-03-18T19:18:49.086654Z"
    },
    "papermill": {
     "duration": 0.037024,
     "end_time": "2023-03-18T19:18:49.091261",
     "exception": false,
     "start_time": "2023-03-18T19:18:49.054237",
     "status": "completed"
    },
    "tags": []
   },
   "outputs": [
    {
     "name": "stdout",
     "output_type": "stream",
     "text": [
      "<class 'pandas.core.frame.DataFrame'>\n",
      "Int64Index: 5658394 entries, 0 to 181805\n",
      "Data columns (total 9 columns):\n",
      " #   Column              Dtype \n",
      "---  ------              ----- \n",
      " 0   ride_id             object\n",
      " 1   rideable_type       object\n",
      " 2   started_at          object\n",
      " 3   ended_at            object\n",
      " 4   start_station_name  object\n",
      " 5   start_station_id    object\n",
      " 6   end_station_name    object\n",
      " 7   end_station_id      object\n",
      " 8   member_casual       object\n",
      "dtypes: object(9)\n",
      "memory usage: 431.7+ MB\n"
     ]
    }
   ],
   "source": [
    "#check column data type\n",
    "all_trips_v2.info()"
   ]
  },
  {
   "cell_type": "code",
   "execution_count": 13,
   "id": "f8d78bed",
   "metadata": {
    "execution": {
     "iopub.execute_input": "2023-03-18T19:18:49.113668Z",
     "iopub.status.busy": "2023-03-18T19:18:49.113037Z",
     "iopub.status.idle": "2023-03-18T19:19:09.031159Z",
     "shell.execute_reply": "2023-03-18T19:19:09.029801Z"
    },
    "papermill": {
     "duration": 19.931983,
     "end_time": "2023-03-18T19:19:09.033815",
     "exception": false,
     "start_time": "2023-03-18T19:18:49.101832",
     "status": "completed"
    },
    "tags": []
   },
   "outputs": [
    {
     "data": {
      "text/html": [
       "<div>\n",
       "<style scoped>\n",
       "    .dataframe tbody tr th:only-of-type {\n",
       "        vertical-align: middle;\n",
       "    }\n",
       "\n",
       "    .dataframe tbody tr th {\n",
       "        vertical-align: top;\n",
       "    }\n",
       "\n",
       "    .dataframe thead th {\n",
       "        text-align: right;\n",
       "    }\n",
       "</style>\n",
       "<table border=\"1\" class=\"dataframe\">\n",
       "  <thead>\n",
       "    <tr style=\"text-align: right;\">\n",
       "      <th></th>\n",
       "      <th>ride_id</th>\n",
       "      <th>rideable_type</th>\n",
       "      <th>started_at</th>\n",
       "      <th>ended_at</th>\n",
       "      <th>start_station_name</th>\n",
       "      <th>start_station_id</th>\n",
       "      <th>end_station_name</th>\n",
       "      <th>end_station_id</th>\n",
       "      <th>member_casual</th>\n",
       "    </tr>\n",
       "  </thead>\n",
       "  <tbody>\n",
       "    <tr>\n",
       "      <th>count</th>\n",
       "      <td>5658394</td>\n",
       "      <td>5658394</td>\n",
       "      <td>5658394</td>\n",
       "      <td>5658394</td>\n",
       "      <td>4833773</td>\n",
       "      <td>4833773</td>\n",
       "      <td>4774794</td>\n",
       "      <td>4774794</td>\n",
       "      <td>5658394</td>\n",
       "    </tr>\n",
       "    <tr>\n",
       "      <th>unique</th>\n",
       "      <td>5658394</td>\n",
       "      <td>3</td>\n",
       "      <td>4001777</td>\n",
       "      <td>4012550</td>\n",
       "      <td>1674</td>\n",
       "      <td>1339</td>\n",
       "      <td>1692</td>\n",
       "      <td>1343</td>\n",
       "      <td>2</td>\n",
       "    </tr>\n",
       "    <tr>\n",
       "      <th>top</th>\n",
       "      <td>C2F7DD78E82EC875</td>\n",
       "      <td>electric_bike</td>\n",
       "      <td>11/05/2022 17:13</td>\n",
       "      <td>30/05/2022 17:24</td>\n",
       "      <td>Streeter Dr &amp; Grand Ave</td>\n",
       "      <td>13022</td>\n",
       "      <td>Streeter Dr &amp; Grand Ave</td>\n",
       "      <td>13022</td>\n",
       "      <td>member</td>\n",
       "    </tr>\n",
       "    <tr>\n",
       "      <th>freq</th>\n",
       "      <td>1</td>\n",
       "      <td>2879771</td>\n",
       "      <td>75</td>\n",
       "      <td>89</td>\n",
       "      <td>75235</td>\n",
       "      <td>75235</td>\n",
       "      <td>75382</td>\n",
       "      <td>75382</td>\n",
       "      <td>3336362</td>\n",
       "    </tr>\n",
       "  </tbody>\n",
       "</table>\n",
       "</div>"
      ],
      "text/plain": [
       "                 ride_id  rideable_type        started_at          ended_at  \\\n",
       "count            5658394        5658394           5658394           5658394   \n",
       "unique           5658394              3           4001777           4012550   \n",
       "top     C2F7DD78E82EC875  electric_bike  11/05/2022 17:13  30/05/2022 17:24   \n",
       "freq                   1        2879771                75                89   \n",
       "\n",
       "             start_station_name start_station_id         end_station_name  \\\n",
       "count                   4833773          4833773                  4774794   \n",
       "unique                     1674             1339                     1692   \n",
       "top     Streeter Dr & Grand Ave            13022  Streeter Dr & Grand Ave   \n",
       "freq                      75235            75235                    75382   \n",
       "\n",
       "       end_station_id member_casual  \n",
       "count         4774794       5658394  \n",
       "unique           1343             2  \n",
       "top             13022        member  \n",
       "freq            75382       3336362  "
      ]
     },
     "execution_count": 13,
     "metadata": {},
     "output_type": "execute_result"
    }
   ],
   "source": [
    "#check statistical summary\n",
    "all_trips_v2.describe()"
   ]
  },
  {
   "cell_type": "code",
   "execution_count": 14,
   "id": "08eef4f0",
   "metadata": {
    "execution": {
     "iopub.execute_input": "2023-03-18T19:19:09.057051Z",
     "iopub.status.busy": "2023-03-18T19:19:09.055863Z",
     "iopub.status.idle": "2023-03-18T19:19:09.338807Z",
     "shell.execute_reply": "2023-03-18T19:19:09.338036Z"
    },
    "papermill": {
     "duration": 0.296488,
     "end_time": "2023-03-18T19:19:09.340726",
     "exception": false,
     "start_time": "2023-03-18T19:19:09.044238",
     "status": "completed"
    },
    "tags": []
   },
   "outputs": [
    {
     "data": {
      "text/plain": [
       "member    3336362\n",
       "casual    2322032\n",
       "Name: member_casual, dtype: int64"
      ]
     },
     "execution_count": 14,
     "metadata": {},
     "output_type": "execute_result"
    }
   ],
   "source": [
    "#check unique value in membership column\n",
    "all_trips_v2[\"member_casual\"].value_counts()"
   ]
  },
  {
   "cell_type": "code",
   "execution_count": 15,
   "id": "412d3d8e",
   "metadata": {
    "execution": {
     "iopub.execute_input": "2023-03-18T19:19:09.364356Z",
     "iopub.status.busy": "2023-03-18T19:19:09.363063Z",
     "iopub.status.idle": "2023-03-18T19:19:11.170032Z",
     "shell.execute_reply": "2023-03-18T19:19:11.169039Z"
    },
    "papermill": {
     "duration": 1.82119,
     "end_time": "2023-03-18T19:19:11.172118",
     "exception": false,
     "start_time": "2023-03-18T19:19:09.350928",
     "status": "completed"
    },
    "tags": []
   },
   "outputs": [
    {
     "data": {
      "text/plain": [
       "ride_id                    0\n",
       "rideable_type              0\n",
       "started_at                 0\n",
       "ended_at                   0\n",
       "start_station_name    824621\n",
       "start_station_id      824621\n",
       "end_station_name      883600\n",
       "end_station_id        883600\n",
       "member_casual              0\n",
       "dtype: int64"
      ]
     },
     "execution_count": 15,
     "metadata": {},
     "output_type": "execute_result"
    }
   ],
   "source": [
    "#check total null value each column\n",
    "all_trips_v2.isnull().sum()"
   ]
  },
  {
   "cell_type": "code",
   "execution_count": 16,
   "id": "f718df24",
   "metadata": {
    "execution": {
     "iopub.execute_input": "2023-03-18T19:19:11.194649Z",
     "iopub.status.busy": "2023-03-18T19:19:11.194293Z",
     "iopub.status.idle": "2023-03-18T19:19:25.738713Z",
     "shell.execute_reply": "2023-03-18T19:19:25.737726Z"
    },
    "papermill": {
     "duration": 14.558135,
     "end_time": "2023-03-18T19:19:25.740634",
     "exception": false,
     "start_time": "2023-03-18T19:19:11.182499",
     "status": "completed"
    },
    "tags": []
   },
   "outputs": [
    {
     "data": {
      "text/plain": [
       "False    5658394\n",
       "dtype: int64"
      ]
     },
     "execution_count": 16,
     "metadata": {},
     "output_type": "execute_result"
    }
   ],
   "source": [
    "#check duplicated value\n",
    "all_trips_v2.duplicated().value_counts()"
   ]
  },
  {
   "cell_type": "code",
   "execution_count": 17,
   "id": "00134199",
   "metadata": {
    "execution": {
     "iopub.execute_input": "2023-03-18T19:19:25.762689Z",
     "iopub.status.busy": "2023-03-18T19:19:25.761966Z",
     "iopub.status.idle": "2023-03-18T19:19:26.368780Z",
     "shell.execute_reply": "2023-03-18T19:19:26.367246Z"
    },
    "papermill": {
     "duration": 0.620592,
     "end_time": "2023-03-18T19:19:26.371266",
     "exception": false,
     "start_time": "2023-03-18T19:19:25.750674",
     "status": "completed"
    },
    "tags": []
   },
   "outputs": [],
   "source": [
    "#if there's any duality on member_casual value, change using this\n",
    "all_trips_v2['member_casual'] = all_trips_v2['member_casual'].replace({'Subscriber': 'member', 'Customer': 'casual'})"
   ]
  },
  {
   "cell_type": "code",
   "execution_count": 18,
   "id": "64baeaad",
   "metadata": {
    "execution": {
     "iopub.execute_input": "2023-03-18T19:19:26.394547Z",
     "iopub.status.busy": "2023-03-18T19:19:26.394142Z",
     "iopub.status.idle": "2023-03-18T19:20:54.124293Z",
     "shell.execute_reply": "2023-03-18T19:20:54.123110Z"
    },
    "papermill": {
     "duration": 87.744461,
     "end_time": "2023-03-18T19:20:54.127002",
     "exception": false,
     "start_time": "2023-03-18T19:19:26.382541",
     "status": "completed"
    },
    "tags": []
   },
   "outputs": [],
   "source": [
    "#split time based on month, day, year\n",
    "\n",
    "all_trips_v2['date'] = pd.to_datetime(all_trips_v2['started_at']).dt.date\n",
    "all_trips_v2['month'] = pd.to_datetime(all_trips_v2['date']).dt.month\n",
    "all_trips_v2['day'] = pd.to_datetime(all_trips_v2['date']).dt.day\n",
    "all_trips_v2['year'] = pd.to_datetime(all_trips_v2['date']).dt.year\n",
    "all_trips_v2['day_of_week'] = pd.to_datetime(all_trips_v2['date']).dt.day_name()"
   ]
  },
  {
   "cell_type": "code",
   "execution_count": 19,
   "id": "4000a756",
   "metadata": {
    "execution": {
     "iopub.execute_input": "2023-03-18T19:20:54.151096Z",
     "iopub.status.busy": "2023-03-18T19:20:54.150716Z",
     "iopub.status.idle": "2023-03-18T19:23:39.010410Z",
     "shell.execute_reply": "2023-03-18T19:23:39.008830Z"
    },
    "papermill": {
     "duration": 164.874834,
     "end_time": "2023-03-18T19:23:39.013336",
     "exception": false,
     "start_time": "2023-03-18T19:20:54.138502",
     "status": "completed"
    },
    "tags": []
   },
   "outputs": [],
   "source": [
    "#calculate ride length by using ended and started time in date time format\n",
    "all_trips_v2['ride_length'] = pd.to_datetime(all_trips_v2['ended_at']) - pd.to_datetime(all_trips_v2['started_at'])"
   ]
  },
  {
   "cell_type": "code",
   "execution_count": 20,
   "id": "7fb53373",
   "metadata": {
    "execution": {
     "iopub.execute_input": "2023-03-18T19:23:39.037049Z",
     "iopub.status.busy": "2023-03-18T19:23:39.036612Z",
     "iopub.status.idle": "2023-03-18T19:23:39.043074Z",
     "shell.execute_reply": "2023-03-18T19:23:39.042134Z"
    },
    "papermill": {
     "duration": 0.021689,
     "end_time": "2023-03-18T19:23:39.045715",
     "exception": false,
     "start_time": "2023-03-18T19:23:39.024026",
     "status": "completed"
    },
    "tags": []
   },
   "outputs": [
    {
     "data": {
      "text/plain": [
       "False"
      ]
     },
     "execution_count": 20,
     "metadata": {},
     "output_type": "execute_result"
    }
   ],
   "source": [
    "#check if ride_length column in numeric types. if falses = non-numeric\n",
    "all_trips_v2['ride_length'].dtype.kind in 'ifc'"
   ]
  },
  {
   "cell_type": "code",
   "execution_count": 21,
   "id": "d589c17c",
   "metadata": {
    "execution": {
     "iopub.execute_input": "2023-03-18T19:23:39.069956Z",
     "iopub.status.busy": "2023-03-18T19:23:39.069191Z",
     "iopub.status.idle": "2023-03-18T19:23:39.103203Z",
     "shell.execute_reply": "2023-03-18T19:23:39.101515Z"
    },
    "papermill": {
     "duration": 0.04921,
     "end_time": "2023-03-18T19:23:39.106219",
     "exception": false,
     "start_time": "2023-03-18T19:23:39.057009",
     "status": "completed"
    },
    "tags": []
   },
   "outputs": [],
   "source": [
    "#convert ride_length to numeric\n",
    "all_trips_v2['ride_length'] = all_trips_v2['ride_length'].dt.total_seconds()"
   ]
  },
  {
   "cell_type": "code",
   "execution_count": 22,
   "id": "253d58f9",
   "metadata": {
    "execution": {
     "iopub.execute_input": "2023-03-18T19:23:39.129694Z",
     "iopub.status.busy": "2023-03-18T19:23:39.129305Z",
     "iopub.status.idle": "2023-03-18T19:23:41.482970Z",
     "shell.execute_reply": "2023-03-18T19:23:41.481888Z"
    },
    "papermill": {
     "duration": 2.368675,
     "end_time": "2023-03-18T19:23:41.485698",
     "exception": false,
     "start_time": "2023-03-18T19:23:39.117023",
     "status": "completed"
    },
    "tags": []
   },
   "outputs": [],
   "source": [
    "#there's minus value in ride_length = unlogic. Delete it\n",
    "all_trips_v3 = all_trips_v2[all_trips_v2['ride_length'] > 0]"
   ]
  },
  {
   "cell_type": "code",
   "execution_count": 23,
   "id": "ca1530c3",
   "metadata": {
    "execution": {
     "iopub.execute_input": "2023-03-18T19:23:41.509413Z",
     "iopub.status.busy": "2023-03-18T19:23:41.508673Z",
     "iopub.status.idle": "2023-03-18T19:23:41.515179Z",
     "shell.execute_reply": "2023-03-18T19:23:41.514217Z"
    },
    "papermill": {
     "duration": 0.020992,
     "end_time": "2023-03-18T19:23:41.517316",
     "exception": false,
     "start_time": "2023-03-18T19:23:41.496324",
     "status": "completed"
    },
    "tags": []
   },
   "outputs": [
    {
     "data": {
      "text/plain": [
       "Index(['ride_id', 'rideable_type', 'started_at', 'ended_at',\n",
       "       'start_station_name', 'start_station_id', 'end_station_name',\n",
       "       'end_station_id', 'member_casual', 'date', 'month', 'day', 'year',\n",
       "       'day_of_week', 'ride_length'],\n",
       "      dtype='object')"
      ]
     },
     "execution_count": 23,
     "metadata": {},
     "output_type": "execute_result"
    }
   ],
   "source": [
    "#check column name again\n",
    "all_trips_v3.columns"
   ]
  },
  {
   "cell_type": "code",
   "execution_count": 24,
   "id": "101b9a74",
   "metadata": {
    "execution": {
     "iopub.execute_input": "2023-03-18T19:23:41.542266Z",
     "iopub.status.busy": "2023-03-18T19:23:41.541785Z",
     "iopub.status.idle": "2023-03-18T19:23:42.302399Z",
     "shell.execute_reply": "2023-03-18T19:23:42.300914Z"
    },
    "papermill": {
     "duration": 0.776497,
     "end_time": "2023-03-18T19:23:42.304891",
     "exception": false,
     "start_time": "2023-03-18T19:23:41.528394",
     "status": "completed"
    },
    "tags": []
   },
   "outputs": [],
   "source": [
    "#change member_casual column name to membership_type\n",
    "all_trips_v3 = all_trips_v3.rename(columns={'member_casual': 'membership_type'})"
   ]
  },
  {
   "cell_type": "markdown",
   "id": "3e995b95",
   "metadata": {
    "papermill": {
     "duration": 0.009836,
     "end_time": "2023-03-18T19:23:42.325476",
     "exception": false,
     "start_time": "2023-03-18T19:23:42.315640",
     "status": "completed"
    },
    "tags": []
   },
   "source": [
    "## STEP 4 - Descriptive Analysis"
   ]
  },
  {
   "cell_type": "code",
   "execution_count": 25,
   "id": "69b5c318",
   "metadata": {
    "execution": {
     "iopub.execute_input": "2023-03-18T19:23:42.347471Z",
     "iopub.status.busy": "2023-03-18T19:23:42.347104Z",
     "iopub.status.idle": "2023-03-18T19:23:42.364029Z",
     "shell.execute_reply": "2023-03-18T19:23:42.362863Z"
    },
    "papermill": {
     "duration": 0.030432,
     "end_time": "2023-03-18T19:23:42.365958",
     "exception": false,
     "start_time": "2023-03-18T19:23:42.335526",
     "status": "completed"
    },
    "tags": []
   },
   "outputs": [
    {
     "data": {
      "text/plain": [
       "1928.922657810063"
      ]
     },
     "execution_count": 25,
     "metadata": {},
     "output_type": "execute_result"
    }
   ],
   "source": [
    "#check summarize of ride_length column\n",
    "all_trips_v3['ride_length'].mean()"
   ]
  },
  {
   "cell_type": "code",
   "execution_count": 26,
   "id": "529be836",
   "metadata": {
    "execution": {
     "iopub.execute_input": "2023-03-18T19:23:42.388368Z",
     "iopub.status.busy": "2023-03-18T19:23:42.387956Z",
     "iopub.status.idle": "2023-03-18T19:23:42.485840Z",
     "shell.execute_reply": "2023-03-18T19:23:42.484841Z"
    },
    "papermill": {
     "duration": 0.111644,
     "end_time": "2023-03-18T19:23:42.488035",
     "exception": false,
     "start_time": "2023-03-18T19:23:42.376391",
     "status": "completed"
    },
    "tags": []
   },
   "outputs": [
    {
     "data": {
      "text/plain": [
       "617.0"
      ]
     },
     "execution_count": 26,
     "metadata": {},
     "output_type": "execute_result"
    }
   ],
   "source": [
    "#median\n",
    "all_trips_v3['ride_length'].median()"
   ]
  },
  {
   "cell_type": "code",
   "execution_count": 27,
   "id": "20525840",
   "metadata": {
    "execution": {
     "iopub.execute_input": "2023-03-18T19:23:42.511624Z",
     "iopub.status.busy": "2023-03-18T19:23:42.510425Z",
     "iopub.status.idle": "2023-03-18T19:23:42.528646Z",
     "shell.execute_reply": "2023-03-18T19:23:42.527184Z"
    },
    "papermill": {
     "duration": 0.032086,
     "end_time": "2023-03-18T19:23:42.530603",
     "exception": false,
     "start_time": "2023-03-18T19:23:42.498517",
     "status": "completed"
    },
    "tags": []
   },
   "outputs": [
    {
     "data": {
      "text/plain": [
       "1.0"
      ]
     },
     "execution_count": 27,
     "metadata": {},
     "output_type": "execute_result"
    }
   ],
   "source": [
    "#min\n",
    "all_trips_v3['ride_length'].min()"
   ]
  },
  {
   "cell_type": "code",
   "execution_count": 28,
   "id": "9dee6f34",
   "metadata": {
    "execution": {
     "iopub.execute_input": "2023-03-18T19:23:42.554260Z",
     "iopub.status.busy": "2023-03-18T19:23:42.553916Z",
     "iopub.status.idle": "2023-03-18T19:23:42.570951Z",
     "shell.execute_reply": "2023-03-18T19:23:42.569346Z"
    },
    "papermill": {
     "duration": 0.031578,
     "end_time": "2023-03-18T19:23:42.573236",
     "exception": false,
     "start_time": "2023-03-18T19:23:42.541658",
     "status": "completed"
    },
    "tags": []
   },
   "outputs": [
    {
     "data": {
      "text/plain": [
       "21118620.0"
      ]
     },
     "execution_count": 28,
     "metadata": {},
     "output_type": "execute_result"
    }
   ],
   "source": [
    "#max\n",
    "all_trips_v3['ride_length'].max()"
   ]
  },
  {
   "cell_type": "code",
   "execution_count": 29,
   "id": "57d2ae15",
   "metadata": {
    "execution": {
     "iopub.execute_input": "2023-03-18T19:23:42.596491Z",
     "iopub.status.busy": "2023-03-18T19:23:42.596160Z",
     "iopub.status.idle": "2023-03-18T19:23:44.394050Z",
     "shell.execute_reply": "2023-03-18T19:23:44.392537Z"
    },
    "papermill": {
     "duration": 1.812487,
     "end_time": "2023-03-18T19:23:44.396701",
     "exception": false,
     "start_time": "2023-03-18T19:23:42.584214",
     "status": "completed"
    },
    "tags": []
   },
   "outputs": [],
   "source": [
    "#compare members and casual riders based on average ride length & number of rides\n",
    "member_compare = all_trips_v3.dropna(subset=['membership_type']) \\\n",
    "                             .groupby('membership_type') \\\n",
    "                             .agg(average_ride_length=('ride_length', 'mean'), \\\n",
    "                                  number_of_rides=('ride_length', 'count'))"
   ]
  },
  {
   "cell_type": "code",
   "execution_count": 30,
   "id": "affd2771",
   "metadata": {
    "execution": {
     "iopub.execute_input": "2023-03-18T19:23:44.420812Z",
     "iopub.status.busy": "2023-03-18T19:23:44.420410Z",
     "iopub.status.idle": "2023-03-18T19:23:44.427335Z",
     "shell.execute_reply": "2023-03-18T19:23:44.426546Z"
    },
    "papermill": {
     "duration": 0.020483,
     "end_time": "2023-03-18T19:23:44.429164",
     "exception": false,
     "start_time": "2023-03-18T19:23:44.408681",
     "status": "completed"
    },
    "tags": []
   },
   "outputs": [
    {
     "name": "stdout",
     "output_type": "stream",
     "text": [
      "                 average_ride_length  number_of_rides\n",
      "membership_type                                      \n",
      "casual                   2977.854037          2316949\n",
      "member                   1198.846085          3328857\n"
     ]
    }
   ],
   "source": [
    "#check member_compare results\n",
    "print(member_compare)"
   ]
  },
  {
   "cell_type": "code",
   "execution_count": 31,
   "id": "7060fcc5",
   "metadata": {
    "execution": {
     "iopub.execute_input": "2023-03-18T19:23:44.453494Z",
     "iopub.status.busy": "2023-03-18T19:23:44.452131Z",
     "iopub.status.idle": "2023-03-18T19:23:45.543284Z",
     "shell.execute_reply": "2023-03-18T19:23:45.542139Z"
    },
    "papermill": {
     "duration": 1.105733,
     "end_time": "2023-03-18T19:23:45.545592",
     "exception": false,
     "start_time": "2023-03-18T19:23:44.439859",
     "status": "completed"
    },
    "tags": []
   },
   "outputs": [],
   "source": [
    "#reorder the day. Sunday = 1, monday = 2\n",
    "all_trips_v3['day_of_week'] = all_trips_v3['day_of_week'].astype(CategoricalDtype(categories=['Sunday', 'Monday', 'Tuesday', 'Wednesday', 'Thursday', 'Friday', 'Saturday'], ordered=True))"
   ]
  },
  {
   "cell_type": "code",
   "execution_count": 32,
   "id": "4cdddf57",
   "metadata": {
    "execution": {
     "iopub.execute_input": "2023-03-18T19:23:45.568795Z",
     "iopub.status.busy": "2023-03-18T19:23:45.568423Z",
     "iopub.status.idle": "2023-03-18T19:23:45.583596Z",
     "shell.execute_reply": "2023-03-18T19:23:45.582724Z"
    },
    "papermill": {
     "duration": 0.029163,
     "end_time": "2023-03-18T19:23:45.585534",
     "exception": false,
     "start_time": "2023-03-18T19:23:45.556371",
     "status": "completed"
    },
    "tags": []
   },
   "outputs": [
    {
     "data": {
      "text/plain": [
       "'Saturday'"
      ]
     },
     "execution_count": 32,
     "metadata": {},
     "output_type": "execute_result"
    }
   ],
   "source": [
    "#check if the day levels is correct\n",
    "all_trips_v3['day_of_week'].min()\n",
    "all_trips_v3['day_of_week'].max()"
   ]
  },
  {
   "cell_type": "code",
   "execution_count": 33,
   "id": "e6ca76c2",
   "metadata": {
    "execution": {
     "iopub.execute_input": "2023-03-18T19:23:45.609115Z",
     "iopub.status.busy": "2023-03-18T19:23:45.608744Z",
     "iopub.status.idle": "2023-03-18T19:23:47.416602Z",
     "shell.execute_reply": "2023-03-18T19:23:47.415868Z"
    },
    "papermill": {
     "duration": 1.822639,
     "end_time": "2023-03-18T19:23:47.419117",
     "exception": false,
     "start_time": "2023-03-18T19:23:45.596478",
     "status": "completed"
    },
    "tags": []
   },
   "outputs": [],
   "source": [
    "# check the average member per day\n",
    "avg_member_per_day = all_trips_v3.dropna(subset=['membership_type']).groupby(['membership_type', 'day_of_week']).agg({'ride_length': ['count', 'mean']})\n",
    "avg_member_per_day.columns = ['number_of_rides', 'average_ride_length']\n",
    "avg_member_per_day = avg_member_per_day.reset_index().sort_values(by=['day_of_week'])"
   ]
  },
  {
   "cell_type": "code",
   "execution_count": 34,
   "id": "d9b2a250",
   "metadata": {
    "execution": {
     "iopub.execute_input": "2023-03-18T19:23:47.443623Z",
     "iopub.status.busy": "2023-03-18T19:23:47.442587Z",
     "iopub.status.idle": "2023-03-18T19:23:47.452047Z",
     "shell.execute_reply": "2023-03-18T19:23:47.450735Z"
    },
    "papermill": {
     "duration": 0.024565,
     "end_time": "2023-03-18T19:23:47.454774",
     "exception": false,
     "start_time": "2023-03-18T19:23:47.430209",
     "status": "completed"
    },
    "tags": []
   },
   "outputs": [
    {
     "name": "stdout",
     "output_type": "stream",
     "text": [
      "   membership_type day_of_week  number_of_rides  average_ride_length\n",
      "0           casual      Sunday           379004          2564.045007\n",
      "7           member      Sunday           384045          1181.432309\n",
      "1           casual      Monday           289454          3539.391503\n",
      "8           member      Monday           486824          1220.708353\n",
      "2           casual     Tuesday           269139          3499.548193\n",
      "9           member     Tuesday           520587          1298.593981\n",
      "3           casual   Wednesday           268344          3663.139399\n",
      "10          member   Wednesday           498514          1152.452206\n",
      "4           casual    Thursday           288277          1811.677727\n",
      "11          member    Thursday           497767           897.768924\n",
      "5           casual      Friday           346454          2837.248244\n",
      "12          member      Friday           485699          1311.285065\n",
      "6           casual    Saturday           476277          3093.103780\n",
      "13          member    Saturday           455421          1336.081547\n"
     ]
    }
   ],
   "source": [
    "#view the results of avg memb per day\n",
    "print(avg_member_per_day)"
   ]
  },
  {
   "cell_type": "markdown",
   "id": "6842a2a9",
   "metadata": {
    "papermill": {
     "duration": 0.011902,
     "end_time": "2023-03-18T19:23:47.478299",
     "exception": false,
     "start_time": "2023-03-18T19:23:47.466397",
     "status": "completed"
    },
    "tags": []
   },
   "source": [
    "## STEP 5 - Design a Visualization"
   ]
  },
  {
   "cell_type": "code",
   "execution_count": 35,
   "id": "16db1c87",
   "metadata": {
    "execution": {
     "iopub.execute_input": "2023-03-18T19:23:47.504678Z",
     "iopub.status.busy": "2023-03-18T19:23:47.504209Z",
     "iopub.status.idle": "2023-03-18T19:23:47.821870Z",
     "shell.execute_reply": "2023-03-18T19:23:47.820909Z"
    },
    "papermill": {
     "duration": 0.333658,
     "end_time": "2023-03-18T19:23:47.824016",
     "exception": false,
     "start_time": "2023-03-18T19:23:47.490358",
     "status": "completed"
    },
    "tags": []
   },
   "outputs": [
    {
     "data": {
      "image/png": "[encoded data removed]",
      "text/plain": [
       "<Figure size 640x480 with 1 Axes>"
      ]
     },
     "metadata": {},
     "output_type": "display_data"
    },
    {
     "data": {
      "text/plain": [
       "<ggplot: (8741522660413)>"
      ]
     },
     "execution_count": 35,
     "metadata": {},
     "output_type": "execute_result"
    }
   ],
   "source": [
    "# num of ride by day\n",
    "ggplot(data=avg_member_per_day, mapping=aes(x='day_of_week', y='number_of_rides', fill='membership_type')) + \\\n",
    "geom_col(position='dodge') + \\\n",
    "labs(title='Number of Rides by Membership Type in 2022', \n",
    "     x='', y='Number of Rides', \n",
    "     fill='Membership Type')"
   ]
  },
  {
   "cell_type": "code",
   "execution_count": 36,
   "id": "e5119376",
   "metadata": {
    "execution": {
     "iopub.execute_input": "2023-03-18T19:23:47.853725Z",
     "iopub.status.busy": "2023-03-18T19:23:47.853326Z",
     "iopub.status.idle": "2023-03-18T19:23:48.138503Z",
     "shell.execute_reply": "2023-03-18T19:23:48.137501Z"
    },
    "papermill": {
     "duration": 0.301507,
     "end_time": "2023-03-18T19:23:48.140743",
     "exception": false,
     "start_time": "2023-03-18T19:23:47.839236",
     "status": "completed"
    },
    "tags": []
   },
   "outputs": [
    {
     "data": {
      "image/png": "[encoded data removed]",
      "text/plain": [
       "<Figure size 640x480 with 1 Axes>"
      ]
     },
     "metadata": {},
     "output_type": "display_data"
    },
    {
     "data": {
      "text/plain": [
       "<ggplot: (8741671065505)>"
      ]
     },
     "execution_count": 36,
     "metadata": {},
     "output_type": "execute_result"
    }
   ],
   "source": [
    "# average ride length by day\n",
    "ggplot(data=avg_member_per_day, mapping=aes(x='day_of_week', y='average_ride_length', fill='membership_type')) + \\\n",
    "    geom_col(position='dodge') + \\\n",
    "    labs(title='Average Ride Length by Membership Type in 2022',\n",
    "         x='',\n",
    "         y='Average Ride Length (in seconds)',\n",
    "         fill='Membership Type')"
   ]
  },
  {
   "cell_type": "code",
   "execution_count": 37,
   "id": "0feffcb9",
   "metadata": {
    "execution": {
     "iopub.execute_input": "2023-03-18T19:23:48.174099Z",
     "iopub.status.busy": "2023-03-18T19:23:48.173446Z",
     "iopub.status.idle": "2023-03-18T19:23:48.339036Z",
     "shell.execute_reply": "2023-03-18T19:23:48.337762Z"
    },
    "papermill": {
     "duration": 0.184115,
     "end_time": "2023-03-18T19:23:48.341148",
     "exception": false,
     "start_time": "2023-03-18T19:23:48.157033",
     "status": "completed"
    },
    "tags": []
   },
   "outputs": [
    {
     "data": {
      "image/png": "[encoded data removed]",
      "text/plain": [
       "<Figure size 640x480 with 1 Axes>"
      ]
     },
     "metadata": {},
     "output_type": "display_data"
    }
   ],
   "source": [
    "highest_day_nor = avg_member_per_day.query('membership_type == \"casual\"').sort_values('number_of_rides', ascending=False)\n",
    "\n",
    "plt.barh(highest_day_nor['day_of_week'], highest_day_nor['number_of_rides']/1000)\n",
    "plt.title(\"Number of Rides Per Day by Casual Riders\")\n",
    "plt.xlabel(\"Number of Rides (in thousands)\")\n",
    "plt.gca().invert_yaxis()\n",
    "\n",
    "for i, v in enumerate(highest_day_nor['number_of_rides']/1000):\n",
    "    plt.text(v + 0.3, i, str(round(v, 1)), color='black', ha='left', va='center')\n",
    "\n",
    "\n",
    "plt.show()"
   ]
  }
 ],
 "metadata": {
  "kernelspec": {
   "display_name": "Python 3",
   "language": "python",
   "name": "python3"
  },
  "language_info": {
   "codemirror_mode": {
    "name": "ipython",
    "version": 3
   },
   "file_extension": ".py",
   "mimetype": "text/x-python",
   "name": "python",
   "nbconvert_exporter": "python",
   "pygments_lexer": "ipython3",
   "version": "3.7.12"
  },
  "papermill": {
   "default_parameters": {},
   "duration": 345.347865,
   "end_time": "2023-03-18T19:23:50.585418",
   "environment_variables": {},
   "exception": null,
   "input_path": "__notebook__.ipynb",
   "output_path": "__notebook__.ipynb",
   "parameters": {},
   "start_time": "2023-03-18T19:18:05.237553",
   "version": "2.4.0"
  }
 },
 "nbformat": 4,
 "nbformat_minor": 5
}
